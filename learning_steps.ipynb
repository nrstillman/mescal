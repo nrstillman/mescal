{
 "cells": [
  {
   "cell_type": "code",
   "execution_count": 1,
   "metadata": {},
   "outputs": [],
   "source": [
    "import matplotlib.pyplot as plt\n",
    "import numpy as np\n",
    "\n",
    "import ActiveLearner as AL\n",
    "\n",
    "import generateData as generate\n",
    "\n",
    "import steps_simulator as sim\n"
   ]
  },
  {
   "cell_type": "code",
   "execution_count": 2,
   "metadata": {},
   "outputs": [],
   "source": [
    "#parameters\n",
    "NT = 1000\n",
    "cell = ['10_20', '10_30', '10_40', '20_30', '20_40', '30_40', '7_10']\n",
    "mesh = [5,2]\n",
    "\n",
    "NP0 = [1e3, 1e4, 1e5]\n",
    "D =  [1e-12, 1e-13, 1e-14, 1e-15, 0]\n",
    "k_a = [1e3, 1e4, 1e5, 1e6, 1e7, 1e8, 1e9]\n",
    "t_final =  [1*3600, 12*3600, 24*3600, 48*3600]\n",
    "unif = [0,1]\n",
    "\n",
    "p = [cell, mesh, D, NP0, k_a, t_final, unif]\n",
    "samples = [0,1]"
   ]
  },
  {
   "cell_type": "code",
   "execution_count": 3,
   "metadata": {},
   "outputs": [],
   "source": [
    "feature_labels = ['Lcell', 'Ldomain','mesh', 'NP0', 'D', 'k_a', 't_final', 'unif']\n",
    "features = [cell, mesh,NP0, D, k_a, t_final, unif]\n",
    "filenames = ['rd_data_for_learning.pickle', 'test_out', 'df_out_single_cell', 'train_out']\n",
    "s = sim.STEPS(features, feature_labels, filenames)"
   ]
  },
  {
   "cell_type": "code",
   "execution_count": 4,
   "metadata": {},
   "outputs": [
    {
     "data": {
      "text/plain": [
       "[    Lcell  Ldomain  mesh       NP0             D           k_a   t_final  unif\n",
       " 0    10.0     40.0   2.0    1000.0  1.000000e-12  1.000000e+03  172800.0   0.0\n",
       " 1    10.0     30.0   5.0  100000.0  0.000000e+00  1.000000e+09   86400.0   1.0\n",
       " 2    10.0     40.0   5.0    1000.0  1.000000e-15  1.000000e+06  172800.0   0.0\n",
       " 3     7.0     10.0   2.0    1000.0  1.000000e-13  1.000000e+07  172800.0   1.0\n",
       " 4    30.0     40.0   5.0  100000.0  1.000000e-12  1.000000e+06    3600.0   0.0\n",
       " 5    10.0     20.0   2.0   10000.0  1.000000e-13  1.000000e+09  172800.0   0.0\n",
       " 6    30.0     40.0   2.0  100000.0  1.000000e-15  1.000000e+07   86400.0   1.0\n",
       " 7    10.0     20.0   2.0   10000.0  1.000000e-12  1.000000e+06   43200.0   1.0\n",
       " 8    20.0     30.0   2.0    1000.0  1.000000e-14  1.000000e+04    3600.0   1.0\n",
       " 9     7.0     10.0   5.0   10000.0  1.000000e-14  1.000000e+04   86400.0   1.0\n",
       " 10   10.0     40.0   2.0    1000.0  1.000000e-14  1.000000e+08   43200.0   1.0\n",
       " 11   10.0     40.0   5.0    1000.0  1.000000e-13  1.000000e+04    3600.0   0.0\n",
       " 12   10.0     30.0   5.0  100000.0  0.000000e+00  1.000000e+04   86400.0   1.0\n",
       " 13   10.0     40.0   2.0  100000.0  0.000000e+00  1.000000e+03   43200.0   0.0\n",
       " 14   10.0     30.0   5.0  100000.0  1.000000e-15  1.000000e+05  172800.0   1.0\n",
       " 15   10.0     40.0   5.0   10000.0  1.000000e-15  1.000000e+09    3600.0   1.0\n",
       " 16    7.0     10.0   5.0   10000.0  1.000000e-15  1.000000e+07   86400.0   1.0\n",
       " 17    7.0     10.0   2.0   10000.0  1.000000e-12  1.000000e+09  172800.0   0.0\n",
       " 18   10.0     20.0   5.0  100000.0  0.000000e+00  1.000000e+08   86400.0   0.0\n",
       " 19    7.0     10.0   2.0   10000.0  0.000000e+00  1.000000e+03    3600.0   0.0\n",
       " 20   10.0     40.0   2.0   10000.0  1.000000e-15  1.000000e+09  172800.0   1.0\n",
       " 21   10.0     30.0   2.0   10000.0  1.000000e-14  1.000000e+07  172800.0   1.0\n",
       " 22   10.0     20.0   5.0    1000.0  1.000000e-14  1.000000e+09  172800.0   1.0\n",
       " 23   10.0     20.0   2.0  100000.0  1.000000e-14  1.000000e+07  172800.0   1.0\n",
       " 24   30.0     40.0   2.0  100000.0  1.000000e-15  1.000000e+04   86400.0   0.0\n",
       " 25   20.0     40.0   2.0    1000.0  1.000000e-14  1.000000e+06    3600.0   0.0\n",
       " 26   20.0     30.0   5.0    1000.0  1.000000e-12  1.000000e+07   86400.0   1.0\n",
       " 27    7.0     10.0   2.0   10000.0  1.000000e-13  1.000000e+07   43200.0   0.0\n",
       " 28   10.0     40.0   2.0   10000.0  1.000000e-15  1.000000e+07   43200.0   1.0\n",
       " 29   10.0     40.0   5.0  100000.0  0.000000e+00  1.000000e+08    3600.0   1.0\n",
       " ..    ...      ...   ...       ...           ...           ...       ...   ...\n",
       " 60   20.0     40.0   5.0  100000.0  0.000000e+00  1.000000e+03   86400.0   1.0\n",
       " 61   20.0     30.0   2.0  100000.0  1.000000e-14  1.000000e+09  172800.0   0.0\n",
       " 62    7.0     10.0   2.0    1000.0  1.000000e-15  1.000000e+09   86400.0   1.0\n",
       " 63   20.0     40.0   5.0  100000.0  0.000000e+00  1.000000e+04    3600.0   0.0\n",
       " 64   20.0     40.0   2.0    1000.0  1.000000e-12  1.000000e+03    3600.0   1.0\n",
       " 65   10.0     30.0   2.0   10000.0  1.000000e-12  1.000000e+04    3600.0   0.0\n",
       " 66   30.0     40.0   5.0  100000.0  1.000000e-15  1.000000e+06  172800.0   0.0\n",
       " 67   30.0     40.0   5.0   10000.0  1.000000e-13  1.000000e+04  172800.0   1.0\n",
       " 68   30.0     40.0   2.0    1000.0  1.000000e-15  1.000000e+08   86400.0   1.0\n",
       " 69   20.0     30.0   5.0  100000.0  1.000000e-14  1.000000e+06    3600.0   0.0\n",
       " 70   20.0     30.0   2.0    1000.0  1.000000e-13  1.000000e+05  172800.0   0.0\n",
       " 71   20.0     40.0   2.0    1000.0  1.000000e-12  1.000000e+09   86400.0   1.0\n",
       " 72   20.0     40.0   2.0   10000.0  0.000000e+00  1.000000e+05   43200.0   1.0\n",
       " 73   30.0     40.0   5.0    1000.0  1.000000e-13  1.000000e+04  172800.0   1.0\n",
       " 74   30.0     40.0   2.0   10000.0  1.000000e-14  1.000000e+05   43200.0   1.0\n",
       " 75   10.0     20.0   2.0  100000.0  1.000000e-13  1.000000e+03   86400.0   0.0\n",
       " 76   10.0     40.0   2.0   10000.0  0.000000e+00  1.000000e+04   86400.0   1.0\n",
       " 77   10.0     30.0   2.0  100000.0  0.000000e+00  1.000000e+05    3600.0   0.0\n",
       " 78   20.0     40.0   5.0   10000.0  1.000000e-14  1.000000e+09  172800.0   0.0\n",
       " 79   10.0     40.0   5.0    1000.0  1.000000e-13  1.000000e+05   86400.0   0.0\n",
       " 80   10.0     30.0   5.0    1000.0  0.000000e+00  1.000000e+08   43200.0   0.0\n",
       " 81   30.0     40.0   2.0   10000.0  1.000000e-15  1.000000e+05  172800.0   0.0\n",
       " 82   10.0     20.0   2.0   10000.0  1.000000e-14  1.000000e+06   43200.0   1.0\n",
       " 83    7.0     10.0   2.0   10000.0  1.000000e-13  1.000000e+07    3600.0   0.0\n",
       " 84   10.0     30.0   2.0  100000.0  1.000000e-13  1.000000e+04  172800.0   0.0\n",
       " 85   10.0     30.0   2.0    1000.0  0.000000e+00  1.000000e+08   43200.0   1.0\n",
       " 86   20.0     30.0   2.0    1000.0  1.000000e-15  1.000000e+07    3600.0   0.0\n",
       " 87   30.0     40.0   2.0    1000.0  1.000000e-13  1.000000e+05   43200.0   1.0\n",
       " 88   10.0     30.0   5.0    1000.0  1.000000e-14  1.000000e+03   86400.0   0.0\n",
       " 89   10.0     20.0   5.0    1000.0  1.000000e-15  1.000000e+08   86400.0   1.0\n",
       " \n",
       " [90 rows x 8 columns],\n",
       " 0     0.0\n",
       " 1     0.0\n",
       " 2     0.0\n",
       " 3     1.0\n",
       " 4     0.0\n",
       " 5     0.0\n",
       " 6     0.0\n",
       " 7     0.0\n",
       " 8     0.1\n",
       " 9     0.0\n",
       " 10    0.1\n",
       " 11    0.1\n",
       " 12    0.0\n",
       " 13    0.0\n",
       " 14    0.0\n",
       " 15    0.0\n",
       " 16    0.0\n",
       " 17    0.0\n",
       " 18    0.0\n",
       " 19    0.0\n",
       " 20    0.0\n",
       " 21    0.0\n",
       " 22    1.0\n",
       " 23    0.0\n",
       " 24    0.0\n",
       " 25    0.0\n",
       " 26    1.0\n",
       " 27    0.0\n",
       " 28    0.0\n",
       " 29    0.0\n",
       "      ... \n",
       " 60    0.0\n",
       " 61    0.0\n",
       " 62    1.0\n",
       " 63    0.0\n",
       " 64    0.0\n",
       " 65    0.0\n",
       " 66    0.0\n",
       " 67    0.0\n",
       " 68    1.0\n",
       " 69    0.0\n",
       " 70    1.0\n",
       " 71    1.0\n",
       " 72    0.0\n",
       " 73    0.0\n",
       " 74    0.0\n",
       " 75    0.0\n",
       " 76    0.0\n",
       " 77    0.0\n",
       " 78    0.0\n",
       " 79    0.0\n",
       " 80    0.0\n",
       " 81    0.0\n",
       " 82    0.0\n",
       " 83    1.0\n",
       " 84    0.0\n",
       " 85    0.0\n",
       " 86    0.0\n",
       " 87    0.0\n",
       " 88    0.0\n",
       " 89    1.0\n",
       " Name: target, Length: 90, dtype: float64]"
      ]
     },
     "execution_count": 4,
     "metadata": {},
     "output_type": "execute_result"
    }
   ],
   "source": [
    "df_train = s.generateTrainData()\n",
    "df_train"
   ]
  },
  {
   "cell_type": "code",
   "execution_count": 5,
   "metadata": {},
   "outputs": [
    {
     "name": "stdout",
     "output_type": "stream",
     "text": [
      "data loaded\n"
     ]
    },
    {
     "name": "stderr",
     "output_type": "stream",
     "text": [
      "/anaconda3/lib/python3.7/site-packages/pandas/core/frame.py:6692: FutureWarning: Sorting because non-concatenation axis is not aligned. A future version\n",
      "of pandas will change to not sort by default.\n",
      "\n",
      "To accept the future behavior, pass 'sort=False'.\n",
      "\n",
      "To retain the current behavior and silence the warning, pass 'sort=True'.\n",
      "\n",
      "  sort=sort)\n"
     ]
    },
    {
     "name": "stdout",
     "output_type": "stream",
     "text": [
      "--------Number 2 out of 2 completed (1e+02% Complete)-------- \n",
      "Data generation of comparison wmxd scenario complete\n",
      "parameters: mesh_name = 10_20_5um\n",
      "Reading Abaqus file...\n",
      "Successfully found 1 cells\n",
      "parameters: mesh_name = 10_20_5um█████████████████-| 99.9% Complete\n",
      "Reading Abaqus file...\n",
      "Successfully found 1 cells\n",
      "--------Number 1 out of 2 completed (50% Complete)-------- parameters: mesh_name = 10_20_5um\n",
      "Reading Abaqus file...\n",
      "Successfully found 1 cells\n",
      "parameters: mesh_name = 10_20_5um█████████████████-| 99.9% Complete\n",
      "Reading Abaqus file...\n",
      "Successfully found 1 cells\n",
      "--------Number 2 out of 2 completed (1e+02% Complete)-------- plete\n",
      "Data generation stage complete\n"
     ]
    },
    {
     "data": {
      "text/plain": [
       "[   Lcell  Ldomain  mesh     NP0             D     k_a  t_final  unif\n",
       " 0   10.0     20.0   5.0  1000.0  1.000000e-12  1000.0   3600.0   0.0\n",
       " 1   10.0     20.0   5.0  1000.0  1.000000e-12  1000.0   3600.0   1.0,\n",
       " 0    0\n",
       " 1    0\n",
       " Name: target, dtype: int64]"
      ]
     },
     "execution_count": 5,
     "metadata": {},
     "output_type": "execute_result"
    }
   ],
   "source": [
    "df_test = s.generateTestData(samples)\n",
    "df_test"
   ]
  },
  {
   "cell_type": "code",
   "execution_count": null,
   "metadata": {},
   "outputs": [],
   "source": []
  },
  {
   "cell_type": "code",
   "execution_count": null,
   "metadata": {},
   "outputs": [],
   "source": []
  },
  {
   "cell_type": "code",
   "execution_count": null,
   "metadata": {},
   "outputs": [],
   "source": []
  },
  {
   "cell_type": "code",
   "execution_count": null,
   "metadata": {},
   "outputs": [],
   "source": []
  }
 ],
 "metadata": {
  "kernelspec": {
   "display_name": "Python 3",
   "language": "python",
   "name": "python3"
  },
  "language_info": {
   "codemirror_mode": {
    "name": "ipython",
    "version": 3
   },
   "file_extension": ".py",
   "mimetype": "text/x-python",
   "name": "python",
   "nbconvert_exporter": "python",
   "pygments_lexer": "ipython3",
   "version": "3.7.3"
  },
  "toc": {
   "base_numbering": 1,
   "nav_menu": {},
   "number_sections": true,
   "sideBar": true,
   "skip_h1_title": false,
   "title_cell": "Table of Contents",
   "title_sidebar": "Contents",
   "toc_cell": false,
   "toc_position": {},
   "toc_section_display": true,
   "toc_window_display": false
  },
  "varInspector": {
   "cols": {
    "lenName": 16,
    "lenType": 16,
    "lenVar": 40
   },
   "kernels_config": {
    "python": {
     "delete_cmd_postfix": "",
     "delete_cmd_prefix": "del ",
     "library": "var_list.py",
     "varRefreshCmd": "print(var_dic_list())"
    },
    "r": {
     "delete_cmd_postfix": ") ",
     "delete_cmd_prefix": "rm(",
     "library": "var_list.r",
     "varRefreshCmd": "cat(var_dic_list()) "
    }
   },
   "types_to_exclude": [
    "module",
    "function",
    "builtin_function_or_method",
    "instance",
    "_Feature"
   ],
   "window_display": false
  }
 },
 "nbformat": 4,
 "nbformat_minor": 2
}
